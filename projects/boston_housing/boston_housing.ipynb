{
 "cells": [
  {
   "cell_type": "markdown",
   "metadata": {},
   "source": [
    "# Machine Learning Engineer Nanodegree\n",
    "## Model Evaluation & Validation\n",
    "## Project: Predicting Boston Housing Prices\n",
    "\n",
    "Welcome to the first project of the Machine Learning Engineer Nanodegree! In this notebook, some template code has already been provided for you, and you will need to implement additional functionality to successfully complete this project. You will not need to modify the included code beyond what is requested. Sections that begin with **'Implementation'** in the header indicate that the following block of code will require additional functionality which you must provide. Instructions will be provided for each section and the specifics of the implementation are marked in the code block with a 'TODO' statement. Please be sure to read the instructions carefully!\n",
    "\n",
    "In addition to implementing code, there will be questions that you must answer which relate to the project and your implementation. Each section where you will answer a question is preceded by a **'Question X'** header. Carefully read each question and provide thorough answers in the following text boxes that begin with **'Answer:'**. Your project submission will be evaluated based on your answers to each of the questions and the implementation you provide.  \n",
    "\n",
    ">**Note:** Code and Markdown cells can be executed using the **Shift + Enter** keyboard shortcut. In addition, Markdown cells can be edited by typically double-clicking the cell to enter edit mode."
   ]
  },
  {
   "cell_type": "markdown",
   "metadata": {},
   "source": [
    "## Getting Started\n",
    "In this project, you will evaluate the performance and predictive power of a model that has been trained and tested on data collected from homes in suburbs of Boston, Massachusetts. A model trained on this data that is seen as a *good fit* could then be used to make certain predictions about a home — in particular, its monetary value. This model would prove to be invaluable for someone like a real estate agent who could make use of such information on a daily basis.\n",
    "\n",
    "The dataset for this project originates from the [UCI Machine Learning Repository](https://archive.ics.uci.edu/ml/datasets/Housing). The Boston housing data was collected in 1978 and each of the 506 entries represent aggregated data about 14 features for homes from various suburbs in Boston, Massachusetts. For the purposes of this project, the following preprocessing steps have been made to the dataset:\n",
    "- 16 data points have an `'MEDV'` value of 50.0. These data points likely contain **missing or censored values** and have been removed.\n",
    "- 1 data point has an `'RM'` value of 8.78. This data point can be considered an **outlier** and has been removed.\n",
    "- The features `'RM'`, `'LSTAT'`, `'PTRATIO'`, and `'MEDV'` are essential. The remaining **non-relevant features** have been excluded.\n",
    "- The feature `'MEDV'` has been **multiplicatively scaled** to account for 35 years of market inflation.\n",
    "\n",
    "Run the code cell below to load the Boston housing dataset, along with a few of the necessary Python libraries required for this project. You will know the dataset loaded successfully if the size of the dataset is reported."
   ]
  },
  {
   "cell_type": "code",
   "execution_count": 1,
   "metadata": {
    "collapsed": false
   },
   "outputs": [
    {
     "name": "stdout",
     "output_type": "stream",
     "text": [
      "        RM  LSTAT  PTRATIO\n",
      "0    6.575   4.98     15.3\n",
      "1    6.421   9.14     17.8\n",
      "2    7.185   4.03     17.8\n",
      "3    6.998   2.94     18.7\n",
      "4    7.147   5.33     18.7\n",
      "5    6.430   5.21     18.7\n",
      "6    6.012  12.43     15.2\n",
      "7    6.172  19.15     15.2\n",
      "8    5.631  29.93     15.2\n",
      "9    6.004  17.10     15.2\n",
      "10   6.377  20.45     15.2\n",
      "11   6.009  13.27     15.2\n",
      "12   5.889  15.71     15.2\n",
      "13   5.949   8.26     21.0\n",
      "14   6.096  10.26     21.0\n",
      "15   5.834   8.47     21.0\n",
      "16   5.935   6.58     21.0\n",
      "17   5.990  14.67     21.0\n",
      "18   5.456  11.69     21.0\n",
      "19   5.727  11.28     21.0\n",
      "20   5.570  21.02     21.0\n",
      "21   5.965  13.83     21.0\n",
      "22   6.142  18.72     21.0\n",
      "23   5.813  19.88     21.0\n",
      "24   5.924  16.30     21.0\n",
      "25   5.599  16.51     21.0\n",
      "26   5.813  14.81     21.0\n",
      "27   6.047  17.28     21.0\n",
      "28   6.495  12.80     21.0\n",
      "29   6.674  11.98     21.0\n",
      "..     ...    ...      ...\n",
      "459  6.484  18.68     20.2\n",
      "460  5.304  24.91     20.2\n",
      "461  6.185  18.03     20.2\n",
      "462  6.229  13.11     20.2\n",
      "463  6.242  10.74     20.2\n",
      "464  6.750   7.74     20.2\n",
      "465  7.061   7.01     20.2\n",
      "466  5.762  10.42     20.2\n",
      "467  5.871  13.34     20.2\n",
      "468  6.312  10.58     20.2\n",
      "469  6.114  14.98     20.2\n",
      "470  5.905  11.45     20.2\n",
      "471  5.454  18.06     20.1\n",
      "472  5.414  23.97     20.1\n",
      "473  5.093  29.68     20.1\n",
      "474  5.983  18.07     20.1\n",
      "475  5.983  13.35     20.1\n",
      "476  5.707  12.01     19.2\n",
      "477  5.926  13.59     19.2\n",
      "478  5.670  17.60     19.2\n",
      "479  5.390  21.14     19.2\n",
      "480  5.794  14.10     19.2\n",
      "481  6.019  12.92     19.2\n",
      "482  5.569  15.10     19.2\n",
      "483  6.027  14.33     19.2\n",
      "484  6.593   9.67     21.0\n",
      "485  6.120   9.08     21.0\n",
      "486  6.976   5.64     21.0\n",
      "487  6.794   6.48     21.0\n",
      "488  6.030   7.88     21.0\n",
      "\n",
      "[489 rows x 3 columns]\n",
      "Boston housing dataset has 489 data points with 4 variables each.\n"
     ]
    },
    {
     "name": "stderr",
     "output_type": "stream",
     "text": [
      "C:\\ProgramData\\Anaconda2\\lib\\site-packages\\sklearn\\cross_validation.py:44: DeprecationWarning: This module was deprecated in version 0.18 in favor of the model_selection module into which all the refactored classes and functions are moved. Also note that the interface of the new CV iterators are different from that of this module. This module will be removed in 0.20.\n",
      "  \"This module will be removed in 0.20.\", DeprecationWarning)\n",
      "C:\\ProgramData\\Anaconda2\\lib\\site-packages\\sklearn\\learning_curve.py:23: DeprecationWarning: This module was deprecated in version 0.18 in favor of the model_selection module into which all the functions are moved. This module will be removed in 0.20\n",
      "  DeprecationWarning)\n"
     ]
    }
   ],
   "source": [
    "# Import libraries necessary for this project\n",
    "import numpy as np\n",
    "import pandas as pd\n",
    "from sklearn.model_selection import ShuffleSplit\n",
    "\n",
    "# Import supplementary visualizations code visuals.py\n",
    "import visuals as vs\n",
    "\n",
    "# Pretty display for notebooks\n",
    "%matplotlib inline\n",
    "\n",
    "# Load the Boston housing dataset\n",
    "data = pd.read_csv('housing.csv')\n",
    "prices = data['MEDV']\n",
    "features = data.drop('MEDV', axis = 1)\n",
    "\n",
    "print features\n",
    "# Success\n",
    "print \"Boston housing dataset has {} data points with {} variables each.\".format(*data.shape)"
   ]
  },
  {
   "cell_type": "markdown",
   "metadata": {},
   "source": [
    "## Data Exploration\n",
    "In this first section of this project, you will make a cursory investigation about the Boston housing data and provide your observations. Familiarizing yourself with the data through an explorative process is a fundamental practice to help you better understand and justify your results.\n",
    "\n",
    "Since the main goal of this project is to construct a working model which has the capability of predicting the value of houses, we will need to separate the dataset into **features** and the **target variable**. The **features**, `'RM'`, `'LSTAT'`, and `'PTRATIO'`, give us quantitative information about each data point. The **target variable**, `'MEDV'`, will be the variable we seek to predict. These are stored in `features` and `prices`, respectively."
   ]
  },
  {
   "cell_type": "markdown",
   "metadata": {},
   "source": [
    "### Implementation: Calculate Statistics\n",
    "For your very first coding implementation, you will calculate descriptive statistics about the Boston housing prices. Since `numpy` has already been imported for you, use this library to perform the necessary calculations. These statistics will be extremely important later on to analyze various prediction results from the constructed model.\n",
    "\n",
    "In the code cell below, you will need to implement the following:\n",
    "- Calculate the minimum, maximum, mean, median, and standard deviation of `'MEDV'`, which is stored in `prices`.\n",
    "  - Store each calculation in their respective variable."
   ]
  },
  {
   "cell_type": "code",
   "execution_count": 2,
   "metadata": {
    "collapsed": false
   },
   "outputs": [
    {
     "name": "stdout",
     "output_type": "stream",
     "text": [
      "Statistics for Boston housing dataset:\n",
      "\n",
      "Minimum price: $105,000.00\n",
      "Maximum price: $1,024,800.00\n",
      "Mean price: $454,342.94\n",
      "Median price $438,900.00\n",
      "Standard deviation of prices: $165,171.13\n"
     ]
    }
   ],
   "source": [
    "# TODO: Minimum price of the data\n",
    "minimum_price = np.min(prices)\n",
    "\n",
    "# TODO: Maximum price of the data\n",
    "maximum_price = np.max(prices)\n",
    "\n",
    "# TODO: Mean price of the data\n",
    "mean_price = np.mean(prices)\n",
    "\n",
    "# TODO: Median price of the data\n",
    "median_price = np.median(prices)\n",
    "\n",
    "# TODO: Standard deviation of prices of the data\n",
    "std_price = np.std(prices)\n",
    "\n",
    "# Show the calculated statistics\n",
    "print \"Statistics for Boston housing dataset:\\n\"\n",
    "print \"Minimum price: ${:,.2f}\".format(minimum_price)\n",
    "print \"Maximum price: ${:,.2f}\".format(maximum_price)\n",
    "print \"Mean price: ${:,.2f}\".format(mean_price)\n",
    "print \"Median price ${:,.2f}\".format(median_price)\n",
    "print \"Standard deviation of prices: ${:,.2f}\".format(std_price)"
   ]
  },
  {
   "cell_type": "markdown",
   "metadata": {},
   "source": [
    "### Question 1 - Feature Observation\n",
    "As a reminder, we are using three features from the Boston housing dataset: `'RM'`, `'LSTAT'`, and `'PTRATIO'`. For each data point (neighborhood):\n",
    "- `'RM'` is the average number of rooms among homes in the neighborhood.\n",
    "- `'LSTAT'` is the percentage of homeowners in the neighborhood considered \"lower class\" (working poor).\n",
    "- `'PTRATIO'` is the ratio of students to teachers in primary and secondary schools in the neighborhood.\n",
    "\n",
    "_Using your intuition, for each of the three features above, do you think that an increase in the value of that feature would lead to an **increase** in the value of `'MEDV'` or a **decrease** in the value of `'MEDV'`? Justify your answer for each._  \n",
    "**Hint:** Would you expect a home that has an `'RM'` value of 6 be worth more or less than a home that has an `'RM'` value of 7?"
   ]
  },
  {
   "cell_type": "code",
   "execution_count": 48,
   "metadata": {
    "collapsed": false
   },
   "outputs": [
    {
     "data": {
      "image/png": "[encoded data removed]",
      "text/plain": [
       "<matplotlib.figure.Figure at 0xe914588>"
      ]
     },
     "metadata": {},
     "output_type": "display_data"
    },
    {
     "data": {
      "image/png": "[encoded data removed]",
      "text/plain": [
       "<matplotlib.figure.Figure at 0xceab080>"
      ]
     },
     "metadata": {},
     "output_type": "display_data"
    },
    {
     "data": {
      "image/png": "[encoded data removed]",
      "text/plain": [
       "<matplotlib.figure.Figure at 0xc92c400>"
      ]
     },
     "metadata": {},
     "output_type": "display_data"
    }
   ],
   "source": [
    "import matplotlib.pyplot as plt\n",
    "\n",
    "\n",
    "count = 0\n",
    "for feature in features.columns:\n",
    "    f, ax = plt.subplots()\n",
    "    ax.scatter(features[feature], prices, color='black')\n",
    "    ax.set_title(feature +' vs price')\n",
    "    linearfit = np.polyfit(features[feature], prices, deg = 1)\n",
    "    ax.plot(features[feature], linearfit[0] * features[feature] + linearfit[1], linewidth = 3, color = 'red')\n",
    "    plt.xlabel(feature)\n",
    "    plt.ylabel('prices')\n",
    "    count += 1"
   ]
  },
  {
   "cell_type": "markdown",
   "metadata": {},
   "source": [
    "**Answer: **\n",
    "\n",
    "RM:Increase\n",
    "\n",
    "LSTAT:Decrease\n",
    "\n",
    "PTRATIO:Decrease"
   ]
  },
  {
   "cell_type": "markdown",
   "metadata": {},
   "source": [
    "----\n",
    "\n",
    "## Developing a Model\n",
    "In this second section of the project, you will develop the tools and techniques necessary for a model to make a prediction. Being able to make accurate evaluations of each model's performance through the use of these tools and techniques helps to greatly reinforce the confidence in your predictions."
   ]
  },
  {
   "cell_type": "markdown",
   "metadata": {},
   "source": [
    "### Implementation: Define a Performance Metric\n",
    "It is difficult to measure the quality of a given model without quantifying its performance over training and testing. This is typically done using some type of performance metric, whether it is through calculating some type of error, the goodness of fit, or some other useful measurement. For this project, you will be calculating the [*coefficient of determination*](http://stattrek.com/statistics/dictionary.aspx?definition=coefficient_of_determination), R<sup>2</sup>, to quantify your model's performance. The coefficient of determination for a model is a useful statistic in regression analysis, as it often describes how \"good\" that model is at making predictions. \n",
    "\n",
    "The values for R<sup>2</sup> range from 0 to 1, which captures the percentage of squared correlation between the predicted and actual values of the **target variable**. A model with an R<sup>2</sup> of 0 is no better than a model that always predicts the *mean* of the target variable, whereas a model with an R<sup>2</sup> of 1 perfectly predicts the target variable. Any value between 0 and 1 indicates what percentage of the target variable, using this model, can be explained by the **features**. _A model can be given a negative R<sup>2</sup> as well, which indicates that the model is **arbitrarily worse** than one that always predicts the mean of the target variable._\n",
    "\n",
    "For the `performance_metric` function in the code cell below, you will need to implement the following:\n",
    "- Use `r2_score` from `sklearn.metrics` to perform a performance calculation between `y_true` and `y_predict`.\n",
    "- Assign the performance score to the `score` variable."
   ]
  },
  {
   "cell_type": "code",
   "execution_count": 3,
   "metadata": {
    "collapsed": false
   },
   "outputs": [],
   "source": [
    "# TODO: Import 'r2_score'\n",
    "from sklearn.metrics import r2_score\n",
    "def performance_metric(y_true, y_predict):\n",
    "    \"\"\" Calculates and returns the performance score between \n",
    "        true and predicted values based on the metric chosen. \"\"\"\n",
    "    \n",
    "    # TODO: Calculate the performance score between 'y_true' and 'y_predict'\n",
    "    score = r2_score(y_true, y_predict)\n",
    "    \n",
    "    # Return the score\n",
    "    return score"
   ]
  },
  {
   "cell_type": "markdown",
   "metadata": {},
   "source": [
    "### Question 2 - Goodness of Fit\n",
    "Assume that a dataset contains five data points and a model made the following predictions for the target variable:\n",
    "\n",
    "| True Value | Prediction |\n",
    "| :-------------: | :--------: |\n",
    "| 3.0 | 2.5 |\n",
    "| -0.5 | 0.0 |\n",
    "| 2.0 | 2.1 |\n",
    "| 7.0 | 7.8 |\n",
    "| 4.2 | 5.3 |\n",
    "*Would you consider this model to have successfully captured the variation of the target variable? Why or why not?* \n",
    "\n",
    "Run the code cell below to use the `performance_metric` function and calculate this model's coefficient of determination."
   ]
  },
  {
   "cell_type": "code",
   "execution_count": 4,
   "metadata": {
    "collapsed": false
   },
   "outputs": [
    {
     "name": "stdout",
     "output_type": "stream",
     "text": [
      "Model has a coefficient of determination, R^2, of 0.923.\n"
     ]
    }
   ],
   "source": [
    "# Calculate the performance of this model\n",
    "score = performance_metric([3, -0.5, 2, 7, 4.2], [2.5, 0.0, 2.1, 7.8, 5.3])\n",
    "print \"Model has a coefficient of determination, R^2, of {:.3f}.\".format(score)"
   ]
  },
  {
   "cell_type": "markdown",
   "metadata": {},
   "source": [
    "**Answer:Yes**\n",
    "\n",
    "R2 value is near 1, which means the target can be well predicted by variables."
   ]
  },
  {
   "cell_type": "markdown",
   "metadata": {},
   "source": [
    "### Implementation: Shuffle and Split Data\n",
    "Your next implementation requires that you take the Boston housing dataset and split the data into training and testing subsets. Typically, the data is also shuffled into a random order when creating the training and testing subsets to remove any bias in the ordering of the dataset.\n",
    "\n",
    "For the code cell below, you will need to implement the following:\n",
    "- Use `train_test_split` from `sklearn.cross_validation` to shuffle and split the `features` and `prices` data into training and testing sets.\n",
    "  - Split the data into 80% training and 20% testing.\n",
    "  - Set the `random_state` for `train_test_split` to a value of your choice. This ensures results are consistent.\n",
    "- Assign the train and testing splits to `X_train`, `X_test`, `y_train`, and `y_test`."
   ]
  },
  {
   "cell_type": "code",
   "execution_count": 5,
   "metadata": {
    "collapsed": false
   },
   "outputs": [
    {
     "name": "stdout",
     "output_type": "stream",
     "text": [
      "Training and testing split was successful.\n"
     ]
    }
   ],
   "source": [
    "# TODO: Import 'train_test_split'\n",
    "from sklearn.cross_validation import train_test_split\n",
    "# TODO: Shuffle and split the data into training and testing subsets\n",
    "X_train, X_test, y_train, y_test = train_test_split(features, prices, test_size = 0.2, random_state = 1)\n",
    "\n",
    "# Success\n",
    "print \"Training and testing split was successful.\""
   ]
  },
  {
   "cell_type": "markdown",
   "metadata": {},
   "source": [
    "### Question 3 - Training and Testing\n",
    "*What is the benefit to splitting a dataset into some ratio of training and testing subsets for a learning algorithm?*  \n",
    "**Hint:** What could go wrong with not having a way to test your model?"
   ]
  },
  {
   "cell_type": "markdown",
   "metadata": {},
   "source": [
    "**Answer: We can avoid overfitting the model by verifying our model on test data set.**"
   ]
  },
  {
   "cell_type": "markdown",
   "metadata": {},
   "source": [
    "----\n",
    "\n",
    "## Analyzing Model Performance\n",
    "In this third section of the project, you'll take a look at several models' learning and testing performances on various subsets of training data. Additionally, you'll investigate one particular algorithm with an increasing `'max_depth'` parameter on the full training set to observe how model complexity affects performance. Graphing your model's performance based on varying criteria can be beneficial in the analysis process, such as visualizing behavior that may not have been apparent from the results alone."
   ]
  },
  {
   "cell_type": "markdown",
   "metadata": {},
   "source": [
    "### Learning Curves\n",
    "The following code cell produces four graphs for a decision tree model with different maximum depths. Each graph visualizes the learning curves of the model for both training and testing as the size of the training set is increased. Note that the shaded region of a learning curve denotes the uncertainty of that curve (measured as the standard deviation). The model is scored on both the training and testing sets using R<sup>2</sup>, the coefficient of determination.  \n",
    "\n",
    "Run the code cell below and use these graphs to answer the following question."
   ]
  },
  {
   "cell_type": "code",
   "execution_count": 6,
   "metadata": {
    "collapsed": false,
    "scrolled": false
   },
   "outputs": [
    {
     "data": {
      "image/png": "[encoded data removed]",
      "text/plain": [
       "<matplotlib.figure.Figure at 0x5b32048>"
      ]
     },
     "metadata": {},
     "output_type": "display_data"
    }
   ],
   "source": [
    "# Produce learning curves for varying training set sizes and maximum depths\n",
    "vs.ModelLearning(features, prices)"
   ]
  },
  {
   "cell_type": "markdown",
   "metadata": {},
   "source": [
    "### Question 4 - Learning the Data\n",
    "*Choose one of the graphs above and state the maximum depth for the model. What happens to the score of the training curve as more training points are added? What about the testing curve? Would having more training points benefit the model?*  \n",
    "**Hint:** Are the learning curves converging to particular scores?"
   ]
  },
  {
   "cell_type": "markdown",
   "metadata": {},
   "source": [
    "**Answer: **\n",
    "\n",
    "1.score gradually decrease\n",
    "\n",
    "2.score gradually increase\n",
    "\n",
    "3.yes"
   ]
  },
  {
   "cell_type": "markdown",
   "metadata": {},
   "source": [
    "### Complexity Curves\n",
    "The following code cell produces a graph for a decision tree model that has been trained and validated on the training data using different maximum depths. The graph produces two complexity curves — one for training and one for validation. Similar to the **learning curves**, the shaded regions of both the complexity curves denote the uncertainty in those curves, and the model is scored on both the training and validation sets using the `performance_metric` function.  \n",
    "\n",
    "Run the code cell below and use this graph to answer the following two questions."
   ]
  },
  {
   "cell_type": "code",
   "execution_count": 7,
   "metadata": {
    "collapsed": false
   },
   "outputs": [
    {
     "data": {
      "image/png": "[encoded data removed]",
      "text/plain": [
       "<matplotlib.figure.Figure at 0xcfda588>"
      ]
     },
     "metadata": {},
     "output_type": "display_data"
    }
   ],
   "source": [
    "vs.ModelComplexity(X_train, y_train)"
   ]
  },
  {
   "cell_type": "markdown",
   "metadata": {},
   "source": [
    "### Question 5 - Bias-Variance Tradeoff\n",
    "*When the model is trained with a maximum depth of 1, does the model suffer from high bias or from high variance? How about when the model is trained with a maximum depth of 10? What visual cues in the graph justify your conclusions?*  \n",
    "**Hint:** How do you know when a model is suffering from high bias or high variance?"
   ]
  },
  {
   "cell_type": "markdown",
   "metadata": {},
   "source": [
    "**Answer: **\n",
    "\n",
    "1.high bias\n",
    "\n",
    "2.high variance\n",
    "\n",
    "3.Both training score and validation score are low with a maximum depth of 1. With a maximum depth of 10, both \n",
    "\n",
    "  training and validation score get high, however there's a large gap between them. \n",
    "   "
   ]
  },
  {
   "cell_type": "markdown",
   "metadata": {},
   "source": [
    "### Question 6 - Best-Guess Optimal Model\n",
    "*Which maximum depth do you think results in a model that best generalizes to unseen data? What intuition lead you to this answer?*"
   ]
  },
  {
   "cell_type": "markdown",
   "metadata": {},
   "source": [
    "**Answer: depth of 3 is the best choice, with the respectively low bias variance.**"
   ]
  },
  {
   "cell_type": "markdown",
   "metadata": {},
   "source": [
    "-----\n",
    "\n",
    "## Evaluating Model Performance\n",
    "In this final section of the project, you will construct a model and make a prediction on the client's feature set using an optimized model from `fit_model`."
   ]
  },
  {
   "cell_type": "markdown",
   "metadata": {},
   "source": [
    "### Question 7 - Grid Search\n",
    "*What is the grid search technique and how it can be applied to optimize a learning algorithm?*"
   ]
  },
  {
   "cell_type": "markdown",
   "metadata": {},
   "source": [
    "**Answer: We pick a set of values of function parameters, then find out the best set which minimizes the cost function.**"
   ]
  },
  {
   "cell_type": "markdown",
   "metadata": {},
   "source": [
    "### Question 8 - Cross-Validation\n",
    "*What is the k-fold cross-validation training technique? What benefit does this technique provide for grid search when optimizing a model?*  \n",
    "**Hint:** Much like the reasoning behind having a testing set, what could go wrong with using grid search without a cross-validated set?"
   ]
  },
  {
   "cell_type": "markdown",
   "metadata": {},
   "source": [
    "**Answer: split the training data into K equal set, pick the first set as validation set while others remain training set, then pick second set as validation while others reamin training set, take this setp all the way to the last set. Take the average of cost function evaluated from of each validation set. We can find out the most appropriate function parameter by taking cross validation process, otherwise we might encounter the overfit problem.**"
   ]
  },
  {
   "cell_type": "markdown",
   "metadata": {},
   "source": [
    "### Implementation: Fitting a Model\n",
    "Your final implementation requires that you bring everything together and train a model using the **decision tree algorithm**. To ensure that you are producing an optimized model, you will train the model using the grid search technique to optimize the `'max_depth'` parameter for the decision tree. The `'max_depth'` parameter can be thought of as how many questions the decision tree algorithm is allowed to ask about the data before making a prediction. Decision trees are part of a class of algorithms called *supervised learning algorithms*.\n",
    "\n",
    "In addition, you will find your implementation is using `ShuffleSplit()` for an alternative form of cross-validation (see the `'cv_sets'` variable). While it is not the K-Fold cross-validation technique you describe in **Question 8**, this type of cross-validation technique is just as useful!. The `ShuffleSplit()` implementation below will create 10 (`'n_splits'`) shuffled sets, and for each shuffle, 20% (`'test_size'`) of the data will be used as the *validation set*. While you're working on your implementation, think about the contrasts and similarities it has to the K-fold cross-validation technique.\n",
    "\n",
    "Please note that ShuffleSplit has different parameters in scikit-learn versions 0.17 and 0.18.\n",
    "For the `fit_model` function in the code cell below, you will need to implement the following:\n",
    "- Use [`DecisionTreeRegressor`](http://scikit-learn.org/stable/modules/generated/sklearn.tree.DecisionTreeRegressor.html) from `sklearn.tree` to create a decision tree regressor object.\n",
    "  - Assign this object to the `'regressor'` variable.\n",
    "- Create a dictionary for `'max_depth'` with the values from 1 to 10, and assign this to the `'params'` variable.\n",
    "- Use [`make_scorer`](http://scikit-learn.org/stable/modules/generated/sklearn.metrics.make_scorer.html) from `sklearn.metrics` to create a scoring function object.\n",
    "  - Pass the `performance_metric` function as a parameter to the object.\n",
    "  - Assign this scoring function to the `'scoring_fnc'` variable.\n",
    "- Use [`GridSearchCV`](http://scikit-learn.org/0.17/modules/generated/sklearn.grid_search.GridSearchCV.html) from `sklearn.grid_search` to create a grid search object.\n",
    "  - Pass the variables `'regressor'`, `'params'`, `'scoring_fnc'`, and `'cv_sets'` as parameters to the object. \n",
    "  - Assign the `GridSearchCV` object to the `'grid'` variable."
   ]
  },
  {
   "cell_type": "code",
   "execution_count": 20,
   "metadata": {
    "collapsed": false
   },
   "outputs": [],
   "source": [
    "# TODO: Import 'make_scorer', 'DecisionTreeRegressor', and 'GridSearchCV'\n",
    "from sklearn.metrics import make_scorer\n",
    "from sklearn.tree import DecisionTreeRegressor\n",
    "from sklearn.grid_search import GridSearchCV\n",
    "def fit_model(X, y):\n",
    "    \"\"\" Performs grid search over the 'max_depth' parameter for a \n",
    "        decision tree regressor trained on the input data [X, y]. \"\"\"\n",
    "    \n",
    "    # Create cross-validation sets from the training data\n",
    "    cv_sets = ShuffleSplit( n_splits = 10, test_size = 0.20, random_state = 0)\n",
    "\n",
    "    # TODO: Create a decision tree regressor object\n",
    "    regressor = DecisionTreeRegressor(random_state = 1)\n",
    "\n",
    "    # TODO: Create a dictionary for the parameter 'max_depth' with a range from 1 to 10\n",
    "    params = {'max_depth':range(1,11)}\n",
    "\n",
    "    # TODO: Transform 'performance_metric' into a scoring function using 'make_scorer' \n",
    "    scoring_fnc = make_scorer(performance_metric)\n",
    "    # TODO: Create the grid search object\n",
    "    grid = GridSearchCV(estimator = regressor, param_grid = params, scoring = scoring_fnc, cv = list(cv_sets.split(X)))\n",
    "\n",
    "    # Fit the grid search object to the data to compute the optimal model\n",
    "    grid = grid.fit(X, y)\n",
    "\n",
    "    # Return the optimal model after fitting the data\n",
    "    return grid.best_estimator_"
   ]
  },
  {
   "cell_type": "code",
   "execution_count": 18,
   "metadata": {
    "collapsed": false
   },
   "outputs": [
    {
     "name": "stdout",
     "output_type": "stream",
     "text": [
      "[(array([447, 457, 386, 361, 221,  59, 378, 382, 154, 463, 474,  65, 295,\n",
      "        45, 299,  55, 179, 322, 402, 436, 124, 225, 191, 410, 379, 403,\n",
      "       160, 453,  49, 306,  52,  74,  26, 318,   4, 355,   5, 470, 135,\n",
      "       247, 122,  22,  68,  20, 170,  14, 421, 429,  64, 302, 213,  81,\n",
      "       405, 297, 155, 460, 445, 467, 357, 175, 188, 219,  51, 210, 283,\n",
      "       325, 164, 106, 309,  63, 464, 418, 430, 253,  89, 383, 315,  93,\n",
      "       252, 449, 303, 371,  92,  18, 145, 158, 150, 255, 238, 236, 316,\n",
      "       441,  66, 432, 329, 140, 101, 380,   2, 399,  17, 146, 230, 264,\n",
      "        30, 114, 278, 103, 414, 381, 176, 301, 116, 168, 406, 120, 374,\n",
      "       112, 353, 330, 478, 136, 190, 340, 181, 126, 276, 233, 458, 365,\n",
      "       347, 133,  33, 465, 162,  34,  44,  97,  85,  61, 167, 199, 173,\n",
      "       263, 484, 480, 416, 326, 108, 372, 218,  46, 393, 261, 293,  73,\n",
      "       137, 468,  35, 282,  29, 354, 390, 434, 217,  27, 327, 298, 156,\n",
      "       328, 451, 138, 212, 104, 343, 339, 344, 215, 415, 189, 214, 204,\n",
      "       234, 259,  67,  24, 216, 223, 129, 111, 166, 408, 385,  40, 274,\n",
      "       350,  79, 308, 310,  13, 287, 400, 483, 228, 161,  83, 486, 462,\n",
      "       110, 149, 152,  16, 332, 109, 345, 139, 237, 260, 351, 317, 391,\n",
      "       248, 377,  19, 296, 269, 226, 375,   3, 342, 125, 280, 286,  77,\n",
      "       184, 367, 466, 275, 294, 427, 182, 438,  80, 307, 258,  11, 364,\n",
      "        86, 266,  36, 469,  58,  41, 270,  50, 209, 419, 387, 407, 123,\n",
      "       222,  62, 368, 130, 187,  23,  43,   0, 201, 417,  98, 349, 304,\n",
      "       476, 178, 369, 256,  94, 455,  95, 433, 169,  69, 305,  48, 341,\n",
      "       373, 207, 279, 227, 148, 143, 334, 180, 356, 131, 439, 487, 262,\n",
      "       324, 203,  84, 121, 471, 425, 450, 444, 384,  91,  82, 267, 119,\n",
      "       358, 291,  57, 321, 257, 376, 437,  42, 105, 388, 454, 273, 435,\n",
      "        38, 389,  53, 420, 428, 128, 290,  28, 183, 370, 163, 151, 244,\n",
      "       202,  31,  32, 127, 185, 459, 288, 423, 398, 446, 147, 285, 456,\n",
      "       177,  99, 338, 448, 431, 335, 197, 243, 115, 404, 265,  72, 333,\n",
      "        25, 165, 337, 473, 174, 475,  39, 193, 314, 396,  88, 472,  70,\n",
      "        87, 292, 242, 277, 211,   9, 359, 195, 251, 323, 192, 117,  47, 172], dtype=int64), array([ 15, 250, 142, 392,  90, 424, 144, 348,  96,  21, 362, 409, 311,\n",
      "       395, 100, 134,  76, 159, 205, 186, 254, 194, 397,  37, 482, 272,\n",
      "       249, 196, 346, 481, 426,  12, 239, 157,  78, 224, 319, 422, 206,\n",
      "       235, 411,  10, 312,  75, 479, 352,   1, 461, 245, 477, 271, 198,\n",
      "       284, 413, 229, 231, 452, 401, 208, 488, 153, 394, 118, 113, 107,\n",
      "       200, 366, 241, 331, 412, 141, 268,  54, 281, 360, 132, 232, 363,\n",
      "        56, 442,  60, 220,  71, 240,   6, 289, 336, 313, 102,   7, 320,\n",
      "         8, 440, 443, 246, 300, 485, 171], dtype=int64)), (array([240,  27, 136,  30,  98, 422, 464,  91,  23, 215, 270, 299,  16,\n",
      "       424, 201, 346, 191, 286, 287, 477, 272,  57, 117, 307, 248, 193,\n",
      "       388,  56, 101, 176, 267, 366,  67, 407, 278, 373, 355,  80, 297,\n",
      "       141, 406,   5, 294, 472,  36, 262, 257, 283, 376, 319, 379, 398,\n",
      "       446, 450,  95, 113,  59,  37, 143, 426, 402,  40, 274, 280, 192,\n",
      "       310, 345,  13, 455, 296, 362, 463, 433, 316, 181,  62,  79,  43,\n",
      "       275, 216, 289,   9, 293, 276,   2, 410, 378, 356, 126,  85, 443,\n",
      "        75, 403, 212, 423, 311, 399, 331,   1, 456, 317, 204, 151, 381,\n",
      "       209, 396, 140, 432, 255, 273, 431, 291, 444, 239, 261, 312, 162,\n",
      "       147, 324, 430, 244, 134, 227, 441, 459,  54,  45, 352, 172, 480,\n",
      "       330, 259, 279, 452,  39, 300, 434,  18, 320, 156, 222, 266, 210,\n",
      "        88,  50, 217,  99, 154,  33, 122, 160, 167, 325, 225, 405, 292,\n",
      "        10, 105,  68, 411, 474, 371, 258, 351, 180,  28,  42, 408,  20,\n",
      "        84, 476, 357,  71,  49, 465, 342, 277, 116,  76,  48, 304, 263,\n",
      "       260, 146, 418,  64, 110,  52, 377, 124,  87, 435, 288, 118,  12,\n",
      "       157, 127, 460, 235, 481, 241, 415, 305, 177,  58, 427, 131, 152,\n",
      "       393,  17, 186, 420, 447, 368, 242, 367, 170, 187,  47, 469, 301,\n",
      "       199, 484, 318,  78, 454, 198, 412, 119, 153, 383,  21, 281, 254,\n",
      "       250, 243, 237,  35,  81, 159, 333, 182, 380, 329, 109, 458, 478,\n",
      "        92, 387, 445, 284, 148,  70, 359, 211, 461, 165, 238, 188,   3,\n",
      "       290, 344, 197, 389, 120, 184, 155, 488, 112, 138, 486,  66, 336,\n",
      "       438, 224, 268, 161, 386, 436, 174, 440, 221, 100, 483, 219, 229,\n",
      "       334, 348, 114, 322, 395, 321, 220, 391,  82, 309, 166, 169,  15,\n",
      "       245, 439,   6, 485, 473, 397, 394, 128, 104, 303,  61, 208, 302,\n",
      "        51,  90, 354, 207,  22, 374,  26, 218,  73, 453, 451, 365, 466,\n",
      "       205,   4, 190, 361, 164, 375, 185, 429, 404, 194, 419, 401, 468,\n",
      "        93, 132, 233, 173, 178, 313, 315, 428, 353, 115,  32, 206, 282,\n",
      "       339,  96, 343, 123, 226,  74,  89,  38, 179, 360,   0,  46, 171,\n",
      "       392, 149,   7, 457, 414, 107, 347, 133, 256, 223,  83, 327, 482,\n",
      "       102, 323, 108, 475, 213, 195, 487, 340, 246,  72,  94, 125, 135, 417], dtype=int64), array([306, 349, 298, 467, 253, 230, 269,  14, 202,  31, 137, 421, 409,\n",
      "       341, 145, 442, 265, 390, 247, 449, 249, 236, 338,  63, 285,  65,\n",
      "       142,  44, 326, 252, 479, 150,  97, 189, 448,  77, 163, 121, 372,\n",
      "       203,  55, 214, 175,  25, 416, 231, 271, 382, 228, 106, 363, 369,\n",
      "       232, 425, 385,  24,  86, 295, 437, 129, 328, 384, 264, 200, 350,\n",
      "       183, 413, 314,  41,  60, 130, 251, 111, 462, 400, 103, 337, 139,\n",
      "        29, 196,  69,   8,  19, 332,  53, 470, 364, 158, 168, 335, 370,\n",
      "       471,  34, 144, 308, 234, 358,  11], dtype=int64)), (array([151, 335, 146, 136, 434, 416, 228, 246, 345, 288,  22, 248,   4,\n",
      "       401, 232, 482, 264, 379, 184, 365, 446, 315, 139, 471, 298, 476,\n",
      "       169, 219, 190, 432,  23,  19, 120, 182, 275, 130,  42,  18, 383,\n",
      "       137,  53, 177,  47, 348,  65, 455, 260, 357, 447, 488, 227, 115,\n",
      "        26, 312,  39, 197,  66,   2,   1,  13, 277, 436, 364, 375, 485,\n",
      "        58, 157, 215, 292, 167, 268, 355, 174, 253, 362, 427, 155, 439,\n",
      "        67, 255, 396, 282, 241,  14, 201, 361, 289, 147, 114,  30, 217,\n",
      "       278, 286, 164, 124,  12, 230,  50,   9, 234, 305, 128, 176,  35,\n",
      "       423, 325,  80,  36, 343, 412, 250, 333, 204,  68, 178, 394,  61,\n",
      "       474, 456, 425,  92, 109, 225,   0,  40, 221,  75, 212, 256, 140,\n",
      "         7,  59, 200, 366, 461, 220, 209, 126, 127, 186, 291, 223, 156,\n",
      "        29,  56,   8, 417,  86, 392, 323, 445,  27, 254,  37, 317, 118,\n",
      "       119, 477,  32, 360, 463, 308, 460, 338, 326, 382, 467, 450, 143,\n",
      "       279, 340, 243, 290, 483, 465, 426, 135, 203, 158, 408, 409, 484,\n",
      "       466, 468, 299, 138, 251, 424,  99, 160, 149, 297, 168, 162,  74,\n",
      "       410, 353, 405, 134, 166,  20, 273, 194, 240,  41, 208,  57,  49,\n",
      "       193, 331, 487, 210, 110,  95, 480,  87, 385,  44,  91, 245, 235,\n",
      "       300, 422,  71, 276, 376, 269, 370, 418, 313, 481, 283, 327,  28,\n",
      "       347, 411, 306, 402, 320, 342, 195, 222, 472,  70, 336, 105,  10,\n",
      "       173, 307, 486, 356,  79, 287, 229,  64, 150, 414, 242,  83, 381,\n",
      "       431, 328, 296, 172, 363,  33, 444, 257, 144, 237, 440, 372, 429,\n",
      "       281, 399, 332, 321, 367, 400, 380, 314, 389, 213, 106, 131,  15,\n",
      "       337, 373,  73, 216, 341, 284, 181, 129, 187, 191, 103, 123,  60,\n",
      "       272, 475, 459,  78, 285, 391, 165,   3, 236,  82, 206, 420, 102,\n",
      "       349, 185, 371, 117, 324, 252,  88, 311, 469, 205, 395, 113, 464,\n",
      "       437, 249, 358, 179, 263, 374, 359, 180, 419, 334, 271, 377, 133,\n",
      "       258, 413, 122, 430, 346, 259, 218, 407,  16,  51,  38, 344,  89,\n",
      "       262, 301, 351, 458,  25,  11, 368, 403, 238,  97, 479, 226, 111,\n",
      "       196, 100, 183, 244, 101, 145, 441, 378, 170, 404,  21,  98, 175,\n",
      "       454, 154,  81, 397, 267,  77, 387, 339, 386,  94,  24, 433, 132, 265], dtype=int64), array([  6, 108, 310, 449, 148, 198, 171, 304, 462, 478, 107, 294, 393,\n",
      "       302, 406,  17, 163,  63, 448, 295, 316, 207, 352,  85, 125, 421,\n",
      "       159, 161, 141, 443, 415,  54, 390,  96, 452, 322,  31, 224, 398,\n",
      "       104, 470,  93, 270,  76, 329, 451,  62, 438, 239, 330, 369, 354,\n",
      "       121, 214, 202, 388,  90, 188, 189,  34, 318,  43, 442, 293, 261,\n",
      "       453, 319, 153, 116,  69, 247, 384,  72, 211, 142, 266,   5,  48,\n",
      "       473, 435,  45, 112,  55, 303, 280, 199,  84,  46, 309,  52, 350,\n",
      "       152, 231, 457, 233, 428, 274, 192], dtype=int64)), (array([116, 320, 386, 390, 371, 124, 304, 307, 254, 460, 426, 324, 359,\n",
      "       149,   8, 134, 336,  60, 394, 156, 275, 401, 342, 194, 277,   3,\n",
      "       246, 305,  13, 282, 191,  16, 259, 373, 199, 179, 406, 410, 112,\n",
      "       289, 148, 484, 145,  74, 303, 278, 104, 226, 441, 338,  34, 216,\n",
      "       333, 201, 448, 377, 187, 351, 345, 423, 330, 186, 172, 411, 445,\n",
      "       322,  35, 325,  14, 262, 395, 310, 230, 403,  12,  50, 220,  25,\n",
      "        36, 361, 424, 380, 480, 458, 454,  11, 417, 106, 168, 339,  37,\n",
      "       427, 290,  63, 370,  21, 474, 152, 413, 331, 117,  75, 263, 101,\n",
      "       372, 222,  42, 294, 239, 215, 249, 141, 462, 261,  24, 470,  10,\n",
      "        55, 353, 114, 224, 129, 240, 396, 103, 387,  99, 274, 139,   9,\n",
      "       346,  62, 147, 252, 234, 245, 217,  41, 451, 447,  39, 256, 429,\n",
      "       442, 258,  66, 180, 397, 349,  15, 237, 206,  59, 225, 232, 321,\n",
      "       452, 428,   5,  58,  71,  91, 409,  95,  92, 291, 436, 131, 467,\n",
      "       469, 185, 144, 362, 169, 481, 477, 425, 309, 197,  19, 126,  54,\n",
      "       189, 485,  64, 115, 265,   1, 155, 113,  79, 238, 476, 295,  82,\n",
      "       300, 151, 102,  32, 367, 402, 393, 122,  45, 348,  48, 193,  38,\n",
      "       167, 488, 405, 212, 138, 298,  52, 284, 285, 323, 296, 459, 159,\n",
      "       293, 318, 140, 374, 388, 251,  46, 255, 190, 465, 472, 468, 184,\n",
      "       128, 398, 125, 435, 130, 253, 183, 299, 110,  22, 399, 203, 479,\n",
      "       486, 444, 271, 214, 366, 334, 431,  40, 174,   4, 204, 165, 219,\n",
      "       363, 272,  88,  65, 208, 301,  94, 327, 354, 231, 384, 268, 375,\n",
      "        31,  49, 461, 205, 455, 358, 292, 347,  96, 121, 146,  78,  83,\n",
      "       111, 243, 188, 392,  89, 109, 132, 248,  26, 177, 311,   7, 210,\n",
      "       150, 407, 357,  93, 242, 341, 195, 450, 434,   2, 456, 328, 108,\n",
      "       302, 466,  97, 171, 412, 433, 420, 343, 487, 270, 416, 227, 176,\n",
      "       364, 329, 350, 415, 228,  73,  72, 337, 241, 160, 312, 482, 344,\n",
      "       378, 389, 154, 379, 192, 260, 437,  51, 473, 418,  87, 288, 308,\n",
      "       119, 143, 391, 360, 449,  56, 381, 120, 432, 478, 483, 414, 443,\n",
      "        43, 266, 475,  86, 178, 439, 340, 133, 202,  28, 198,  29,  81,\n",
      "       181, 317, 365, 142, 153, 316, 196, 273, 315, 400, 247, 170,  61, 332], dtype=int64), array([213,  27, 207, 209, 286, 182, 100, 136, 267, 352, 164, 369,  20,\n",
      "       161, 385, 419,  77, 105,  33, 283, 280, 236, 408, 118,  18,  53,\n",
      "       233, 446,  76, 123,  84, 382,  90, 218, 235, 158, 135,  70,  85,\n",
      "       127, 438, 287, 269, 356, 404, 471, 421, 173,   6, 229, 464,  17,\n",
      "       297, 319, 422, 276, 107,  67, 264, 440, 200,  98, 430, 163, 157,\n",
      "       368, 457, 257,   0, 137,  68, 281,  80,  47, 314, 162, 453, 166,\n",
      "        30, 244, 221, 223,  44, 463, 306, 376,  69,  57, 175, 383,  23,\n",
      "       335, 313, 326, 279, 211, 250, 355], dtype=int64)), (array([209, 433, 341, 398, 247, 436, 204, 160, 306, 329,   9, 368, 443,\n",
      "       392,  34, 441, 146, 418, 437,  54, 179, 219, 103, 213, 487, 242,\n",
      "       168, 289, 472, 263, 284, 141,  74,  39, 180, 395, 427,  89,  31,\n",
      "        59, 292, 275, 344, 248,  50, 102, 182, 137, 367, 210,  93, 305,\n",
      "       348, 396, 448, 162, 196,  27, 274,  92, 281, 440, 164, 170, 135,\n",
      "        95, 268, 411, 244, 380, 319, 431, 251, 350, 428, 105, 234,  13,\n",
      "       351, 366, 107, 468, 252,   1, 343, 360,  76, 402, 394, 163, 140,\n",
      "       469, 188, 265, 382, 422,  65, 326, 379, 256, 481, 269,  51, 320,\n",
      "       208, 286, 258, 479,  52, 120,  14, 304, 447, 138, 159, 460, 318,\n",
      "       189, 458, 485,  66, 193, 476,   8,  49, 444, 174, 240,  55, 389,\n",
      "       463, 397, 457, 416, 384, 365, 294, 117, 245, 362,  48, 315, 220,\n",
      "       383,  35, 243, 359, 199, 322, 467, 223, 417,  73,  26, 434, 104,\n",
      "       211, 111, 335, 191, 295, 177, 331, 357, 123, 150, 198,  40, 178,\n",
      "       361, 246, 488, 409, 206,  97,  75,  72, 126, 415, 231, 302, 352,\n",
      "        45, 125, 171,  32, 429, 186, 133, 466, 421, 291,  90,  79, 203,\n",
      "        56, 461, 471, 401, 325,  11, 112,   3, 475, 439, 157, 100, 484,\n",
      "       462, 197,   2,  18, 229, 200, 134, 338, 260,  47, 296, 453, 194,\n",
      "       175, 114, 340,  17, 473, 214, 470, 207,  38, 145, 101, 222,  63,\n",
      "        21, 400, 228,  91, 378, 464, 465, 115, 236, 172, 300, 128, 259,\n",
      "        30, 108, 110, 454,  81, 334,  78, 419, 424,   5, 407, 414, 336,\n",
      "       393, 293, 309, 283, 446, 430, 391, 455, 149, 152,  28, 239, 459,\n",
      "       121, 187,  61, 216,  60, 255, 370, 385,   6, 426, 324,  87, 201,\n",
      "       432, 353,  33, 167, 403, 272, 354,  84, 165,   7, 217, 364, 161,\n",
      "        37, 249, 405, 372, 131, 377, 173,  25, 339, 118, 310, 153, 412,\n",
      "        42,  58, 327, 158, 139,  29,  62, 266,  82, 482, 425, 225, 261,\n",
      "       136, 273, 342, 280, 423, 301,  68, 277, 278, 321, 288, 290,  23,\n",
      "       404, 215, 358, 155,  43, 230, 373,  80, 445, 270, 119,  20, 323,\n",
      "       299, 381, 311, 337, 267, 233, 262, 282, 451,  16, 285, 287,  67,\n",
      "       221, 390,   0, 254, 298,  94, 449,  36, 143, 303, 316, 237,  41,\n",
      "       328, 122, 279, 308, 232, 253, 151, 250, 169, 355, 363, 371, 297, 317], dtype=int64), array([356,  96, 176, 205, 109, 218, 264, 346, 478, 369, 313,  85,  99,\n",
      "       332, 185, 147,  77, 375, 314,  69,  15,  88, 413, 271, 127, 450,\n",
      "       106, 345,  57, 486,  83, 142,  46, 166, 202, 241, 113,  19, 477,\n",
      "       386,  64, 387, 330,   4, 347, 480,  86, 132, 238, 312, 388,  70,\n",
      "        24, 235,  71, 406, 212, 184, 227, 399, 435, 190,  22,  53, 276,\n",
      "       226, 257, 456, 408, 420, 333, 192, 474, 130, 124, 144, 349, 410,\n",
      "       129, 156,  44, 116,  98, 307, 195, 438, 452, 154, 148, 374, 442,\n",
      "       224,  10, 483, 181,  12, 183, 376], dtype=int64)), (array([309, 432,  47,  20, 401, 247, 444, 100, 183, 102,  15, 480,  18,\n",
      "       116, 445, 354, 373,  58, 129, 221, 339, 171, 217,  26, 378, 448,\n",
      "       386, 459, 311,   8, 236, 382,  53,  23, 439, 224, 111, 251, 336,\n",
      "       460, 370, 469, 345, 159, 334, 398, 428, 131, 126, 409,  31, 355,\n",
      "        89,  59,  98, 189, 223,  40, 487, 323, 167, 462, 308, 327, 347,\n",
      "       449, 486, 342, 286, 115, 252, 180, 337, 184, 484, 412, 182,  69,\n",
      "         4,  33,  45, 332, 312, 117, 360, 249, 140, 346,   9, 165,  86,\n",
      "        94,  71, 461,  49,  16, 375,  17, 161, 453, 136, 289, 330, 310,\n",
      "       296, 399, 272, 321,  91, 257,  93, 243, 248, 199,  83, 133,  81,\n",
      "       479, 292, 153, 383, 410,  44, 288, 307, 162, 322, 329, 356, 239,\n",
      "        42,  38, 202, 258, 106, 295, 113, 475, 261, 169, 313,  67, 285,\n",
      "       317, 471,  95, 297, 259,  68, 280, 304,  88, 298, 142, 344,  35,\n",
      "         0, 372,  14, 278, 168, 101, 284, 349, 233, 416, 147, 320, 488,\n",
      "       276,  74, 368,  82, 392, 237, 290, 457, 291, 434, 483, 454, 123,\n",
      "       446, 403, 172, 175, 121, 262,  65, 364, 178,  54,  46, 206, 203,\n",
      "       226, 170, 361, 422, 232, 269, 186, 135, 388,  64, 406, 246, 244,\n",
      "       380, 371, 404, 421, 408, 250, 150, 458, 465, 271,  11, 114, 108,\n",
      "       208, 441, 160, 143, 315, 393, 109, 333, 440, 476, 381, 137,  77,\n",
      "       390, 157,  12, 466, 201, 396, 435, 200, 359,  63, 138, 260,  97,\n",
      "       173, 174, 242, 365, 464, 477, 319, 215, 377, 207, 235,  27, 478,\n",
      "       240, 274, 430, 145, 205, 397,  43, 348,  22, 456, 387, 279, 419,\n",
      "       103, 213, 358, 132, 283, 335,  51, 424, 127,  99, 437, 385, 411,\n",
      "       163, 482, 255, 363, 282, 211,  78, 267, 234,  75,   3,  85, 314,\n",
      "       436,  37, 450, 420, 472, 415, 265, 433, 141, 299,  48, 318, 407,\n",
      "        84, 451, 328, 463, 228, 155, 414,  61, 366, 241,  34, 231, 340,\n",
      "       148, 467, 164, 214, 256, 302, 277, 125, 193, 191, 367,   1, 119,\n",
      "         6, 188, 176, 294, 229, 254, 350, 351, 144,  72, 394,  73, 253,\n",
      "       431, 326,  52, 268,  25, 305, 325, 107, 405, 429, 293,  57,  62,\n",
      "       219, 447,  13, 281, 238, 154, 130, 120, 481, 402,  90, 417, 181,\n",
      "       379,  76, 158, 468, 301, 452, 134,  80, 400, 204, 190, 122, 222, 438], dtype=int64), array([ 92, 149, 118, 338, 209,  87, 391, 331, 216, 470, 324,   7, 423,\n",
      "       413, 418, 177, 104, 151, 362, 218, 287, 210,  21, 105, 474,  50,\n",
      "         2, 264, 395, 196, 198, 455, 197, 473, 187,  60,  28, 357, 300,\n",
      "       343, 352, 139, 194, 195, 384,  79, 110,  70, 192,   5,  56, 316,\n",
      "       426, 389, 442, 427,  29,  10, 374, 341, 128, 185,  36, 220,  39,\n",
      "       156, 275, 146, 266, 353,  30, 443, 306,  96, 245, 166, 212,  55,\n",
      "       124, 263, 376,  32, 273, 369, 230, 152,  66, 179, 227, 225,  19,\n",
      "        41, 485, 112, 303, 425, 270,  24], dtype=int64)), (array([ 85, 442, 271,  14,  22, 465,  61,  40, 406, 237, 241, 294, 379,\n",
      "        65, 395, 484, 141, 297,  52, 173, 380,  76, 392, 446, 343, 458,\n",
      "       322,   6, 331, 355, 250,  42, 108,  27, 344, 176, 298, 315, 393,\n",
      "       285,  30, 299, 130, 324, 123, 128, 168, 461, 414, 143,  56, 430,\n",
      "        53, 153, 228, 196, 383, 251, 330, 178, 470, 454, 114, 309,  38,\n",
      "        93, 443, 348, 209,  25, 432, 291, 249, 200, 136, 413, 103,  11,\n",
      "       387, 481, 364, 402, 112, 236, 258, 206, 152,  41, 472, 333, 256,\n",
      "       474, 427, 346, 409,  60, 157, 132, 106, 464, 139, 107, 323, 301,\n",
      "       137, 469, 156, 195, 290, 124, 283, 234, 311, 459,   5, 340, 403,\n",
      "       276, 247, 397, 118, 244, 278,  45, 275, 191, 325, 104, 304, 235,\n",
      "       401, 412, 353, 223, 381, 167, 279, 468, 257, 448, 431, 119,  74,\n",
      "       161, 363, 440, 342, 172, 295, 308,  71, 360, 147, 201, 255,  54,\n",
      "       155, 375, 145,  46,   3, 246, 169, 265,   7, 445,  73, 197, 300,\n",
      "       193,  39, 100,  57,  63, 232, 420, 165, 239, 213, 365, 183, 211,\n",
      "        37, 135, 212, 210, 452,  13, 120, 296,   1, 332, 436, 253,  62,\n",
      "       426, 207, 337, 370,  50, 319, 305, 415, 368, 410, 411, 126, 351,\n",
      "       318, 341, 101, 404,   8,  35, 281,  36, 245, 396, 303, 434,  17,\n",
      "        75, 227, 177, 115, 382,  49, 482, 198,  12, 473, 320, 188, 280,\n",
      "       479,  79, 221,  69, 289, 171, 313,  80, 254,  82, 476,  58, 180,\n",
      "       460, 480, 314, 134, 230, 131, 386,  72, 373,  64, 268, 166, 463,\n",
      "       418, 274, 394,  23, 352, 162,  51, 408, 199, 262,  43, 243, 138,\n",
      "       238, 181, 252, 202, 111, 204, 240,   4, 140, 217, 158, 433,  48,\n",
      "       151, 339, 398, 229, 182,  83, 216, 478, 233,  20, 366, 164, 116,\n",
      "       354, 399, 259, 349, 129, 159, 486, 367, 190,  26, 163,   0, 347,\n",
      "        47, 264, 345, 292, 385, 421, 407, 231, 288, 110, 174, 189, 302,\n",
      "       441, 488, 266, 102, 371, 457, 277, 127, 335, 456, 350,  68, 422,\n",
      "       225, 160, 321, 242, 273,   2,  95, 248,  70, 372, 400, 362, 220,\n",
      "        15, 282,  99, 179, 267, 384, 438, 260, 377, 416, 109, 175, 105,\n",
      "        97, 423, 483, 154, 317, 449, 437,  91,  29, 261, 184,  77, 435,\n",
      "       203, 419,  66, 133,  89, 357, 462, 113, 284,  28, 125, 150, 226, 272], dtype=int64), array([358, 487, 170, 144, 208, 149, 117, 194,  21,  81, 218, 471, 307,\n",
      "       428,  92, 326, 374, 329,  86, 447, 186,  96,  33, 369, 310, 388,\n",
      "       142, 376, 263,  84,  98, 450, 222, 405, 389, 270, 293, 429, 205,\n",
      "       327,  19, 328, 424, 334, 286, 475,  32, 391, 316, 287, 336,  55,\n",
      "       122,  78, 425, 269,  31, 306, 485, 185, 215, 187,   9, 356,  88,\n",
      "        34,  24, 451, 466, 121,  59,  18,  94, 224, 361, 477, 453, 417,\n",
      "        44,  67, 214, 359, 455,  90,  10,  87, 467, 390, 148,  16, 378,\n",
      "       439, 192, 444, 146, 338, 219, 312], dtype=int64)), (array([172, 169, 309, 264, 458,  12, 274, 173, 332, 340, 408, 317, 163,\n",
      "       251, 407, 125, 373, 460,  35, 223, 104, 201, 219, 323, 453,  59,\n",
      "        43, 260,  88, 337, 293, 367, 179, 222, 397, 402,  80, 339, 409,\n",
      "       248, 266, 205, 243,  39, 431, 418, 456, 325, 142, 175, 236,  50,\n",
      "       475,  64, 423, 437, 398, 343,  65,   8, 218, 187, 165, 307, 117,\n",
      "       416, 214, 382, 160, 289,  15, 354, 342, 311, 366, 265, 350,  26,\n",
      "       212,  24, 204, 200, 267, 252, 381,  62,  82, 194, 207, 426, 306,\n",
      "       170, 107, 448, 139, 451,   1, 216,  44, 474, 167,  34, 466, 476,\n",
      "       138, 412, 255, 246, 143, 111, 192, 253, 384, 110,  68, 344, 105,\n",
      "        20, 106, 363, 435, 413, 121, 438, 300, 292,  66, 146, 231, 375,\n",
      "        76,  90, 371, 211, 286, 271, 461, 157, 487,   9, 279,   2, 299,\n",
      "       419, 482,  23, 434, 282, 445, 224, 333, 185, 151, 406, 177, 321,\n",
      "       414, 314,  53, 280, 131, 417, 230, 452, 357, 119, 291, 190,  40,\n",
      "       116, 355, 180, 278, 208, 374, 341, 462, 198, 148, 134, 203,   0,\n",
      "         4, 336, 259, 447, 386,   6,  78, 428, 120, 209, 136, 334,  16,\n",
      "       281, 258, 130, 446,   3,  95, 479,  75, 181, 330,  11, 481, 247,\n",
      "        19, 469, 196, 477, 133, 235, 189, 118, 137, 443, 362,  99, 351,\n",
      "       415, 227, 161, 361,  32, 388, 220, 369, 313, 149, 345,  54,  67,\n",
      "       324, 240, 114, 250, 378, 159, 463, 464, 370,  69, 129, 424, 226,\n",
      "       401, 403,  17, 141, 395, 472, 392, 238, 182, 193, 176, 213,  38,\n",
      "        61, 162,  60, 229,  86,  22, 455, 288, 302, 276,  77, 322, 242,\n",
      "        37, 263, 304, 358,  79, 425, 348, 102, 100, 239, 233, 158, 316,\n",
      "       320, 153, 432, 372, 303,  52, 268, 488, 145, 405,  46, 441, 326,\n",
      "       183, 171, 257, 353,  21, 124, 287, 422, 346, 202, 115, 249,  89,\n",
      "       305, 273, 457,  73, 364, 103,  58, 328, 126, 310, 168, 485, 269,\n",
      "       404, 421, 215, 442, 113,  92, 166, 164, 349, 391, 283, 393,  30,\n",
      "       234, 270, 237,  93, 385, 290,  85, 261, 429, 473, 312,  56, 154,\n",
      "        91, 245, 352, 147,  36,  25, 308, 188,  49,  96,  29, 297, 450,\n",
      "       123, 319, 444,  47, 338, 356, 285, 135,  74, 232, 389, 284, 390,\n",
      "       449, 427, 436, 470, 296,   5, 377, 112, 379, 191, 109,  10,  71, 368], dtype=int64), array([272, 184, 329, 210, 400, 467, 225, 430,  27, 228,  14, 387, 254,\n",
      "        55, 484,  18, 383, 144,  72, 376, 315, 335, 132, 295, 108, 186,\n",
      "       206, 396, 244,  45, 459, 294, 331, 465, 471, 440, 394, 221, 256,\n",
      "        63, 478, 101, 486, 380, 359, 318, 195,  51,  84, 347, 277, 399,\n",
      "       128, 298, 217, 439, 150,  42, 360, 174,  97,  70, 411,  41, 241,\n",
      "        31,   7, 122, 410, 420,  28, 483,  94, 155, 262, 197, 454,  48,\n",
      "       480,  83, 365,  57, 199, 301, 468,  33, 152, 140,  81, 127, 275,\n",
      "       433,  13, 156, 327, 178,  87,  98], dtype=int64)), (array([ 28, 460, 231,  57,  66, 183, 145, 320,  89, 219, 258, 472, 446,\n",
      "       170, 119, 292, 195, 144, 432, 142, 269, 469,  20, 426,  56, 127,\n",
      "       122, 124, 198,  55, 137,  54,   9, 444, 285, 485,  79, 260, 346,\n",
      "       156, 410, 331, 210, 271, 246,  76,  83,  22, 327, 463, 236, 420,\n",
      "         4, 478, 358, 193, 128, 265, 229, 387, 147, 214,  58, 261, 319,\n",
      "       368, 106, 425, 115, 332, 111,  26, 259,  97, 179, 104,   2, 448,\n",
      "       267,  18, 241, 370, 451, 328, 177, 159, 384,  71,  30,  49, 188,\n",
      "       394, 268, 113, 381, 208, 434, 414, 151, 443, 479, 205, 411, 462,\n",
      "       442, 201, 401, 276, 153, 365, 109,  98, 186,  27, 438,  62, 439,\n",
      "       290, 329, 129, 377,  33,  32, 449,  44, 338, 301,  84, 204,  65,\n",
      "        99, 399, 308, 481, 187, 385,  59, 228,  60, 441, 250, 100, 422,\n",
      "       136,  47, 457, 480, 238,  61, 190, 160, 389, 288, 121,  94, 334,\n",
      "       152, 220, 216, 158, 155, 287,  13, 398, 336,  12, 255, 486, 133,\n",
      "        25, 101, 245, 293, 264,  64,  52, 192, 240,  80, 323,  23, 396,\n",
      "        93, 322, 453, 379, 165,  43, 107, 374, 407, 213, 315, 427, 417,\n",
      "        70, 440, 378, 169,  38, 202, 356,  11, 483,  78, 274, 343, 321,\n",
      "       400, 406,  88, 476, 291, 146, 148,  31,  24, 167, 430, 206, 120,\n",
      "       262, 367, 150, 180, 215, 409, 247, 452,   5, 221, 275, 230, 225,\n",
      "       415, 266, 126,  17, 185, 157, 243, 168,  40, 447, 289, 388, 182,\n",
      "       256, 270, 278, 392, 341, 118,  46, 196, 436,  77, 347, 397, 419,\n",
      "       242, 251, 281, 207, 294, 390,  92, 175, 310,  41,  82, 296, 433,\n",
      "       305, 354, 488, 345, 431,   3, 372,  34, 286,   1,  37,  81, 466,\n",
      "       284, 362,  35, 295, 178, 110, 473, 135, 173,  69, 223, 471, 373,\n",
      "       412, 393, 330, 300, 114, 140, 403, 131, 317,  91, 360, 344, 280,\n",
      "       353,  15, 191, 237, 340, 299, 487, 421, 194,  53, 272, 404, 376,\n",
      "       184, 132, 349, 232, 307, 252, 350,  51, 470, 249, 103, 363, 424,\n",
      "       161, 257, 239, 325, 209, 405, 477, 224,  67, 454, 139, 464, 277,\n",
      "       361, 342, 357, 352, 456, 171,  19, 326,  86,  85, 312, 248,   7,\n",
      "       303,  68, 244, 311, 117, 200, 253, 203, 445, 174, 418, 297, 458,\n",
      "         8, 212, 413, 318, 309, 227, 211, 391, 461, 222, 339, 428, 408, 380], dtype=int64), array([402, 279, 371, 475, 333, 482, 386, 348, 172, 298,  87, 154, 467,\n",
      "       189, 233, 337, 102, 234, 468,  21, 163, 313, 369, 416, 181, 359,\n",
      "       435, 304, 306,  73, 141,  48, 123,  14,  50, 437,   6, 162, 218,\n",
      "       474, 226, 324,  63,  42, 217, 450,  16, 134, 125, 366, 302,  75,\n",
      "       383, 166, 108, 423, 130, 199, 364, 149, 465, 116, 355, 351,  90,\n",
      "       375, 273,  45, 314, 112, 484, 263,  36, 235, 335,   0, 455, 138,\n",
      "       429, 395,  96, 143,  10,  95, 282, 105,  39,  29, 316, 197, 164,\n",
      "       382,  72,  74, 176, 283, 254, 459], dtype=int64)), (array([342, 244, 253,  90, 362, 427, 394,  59, 181, 130, 430, 197,  28,\n",
      "       378, 112, 366,  96, 333, 276, 350, 251, 433, 190,   0, 154, 361,\n",
      "       147,  18, 121,  83, 215, 290,   2, 267, 255, 458, 140,  88,  47,\n",
      "        67, 474, 463, 262, 201, 398, 346, 467,  29, 423, 263, 227,  53,\n",
      "       104, 165,  86,  68, 171, 388, 308, 200, 307, 456, 422,  12, 151,\n",
      "       214, 312, 241, 380,  39, 199,  95, 175, 344, 481, 389, 411,  46,\n",
      "       395, 404, 313, 420, 412,  78, 355, 180, 332, 126,   6, 282, 374,\n",
      "       143,  27,  65, 284,  40, 257, 436, 300, 367, 152, 450, 442,  34,\n",
      "       240,  11, 471, 479, 309, 348, 183, 451, 364,  15, 306, 393, 212,\n",
      "       243, 406, 339, 371, 372, 100, 351, 127, 234, 317, 120, 365, 279,\n",
      "       370, 431, 363, 186, 287, 159, 275, 139, 297, 247, 142, 316, 457,\n",
      "       391, 102, 170, 385,  98, 487, 248, 475,  79, 480, 403, 107, 314,\n",
      "       381, 315, 157, 110, 459, 453,  72, 369, 445, 141, 434, 392, 486,\n",
      "       173,  56, 218, 136, 163,   9, 414, 439, 425, 116, 174, 291, 245,\n",
      "       167,  69,  41, 417, 206, 461, 150, 401, 473, 447,  22, 410, 189,\n",
      "       397, 390, 149, 259, 226, 220,  94,  99, 324, 444, 353, 192, 330,\n",
      "       402, 229,  87, 208, 413, 419, 357, 488,   8, 223,   5, 465, 426,\n",
      "       204, 228, 329, 299, 103, 193,  24,  48, 484, 345, 205, 464, 352,\n",
      "       399, 219, 106, 187, 160, 266,  85, 483, 443, 264, 305, 224, 336,\n",
      "       162, 416, 373, 296,  38, 198, 132,  45, 432,  36, 293, 188, 310,\n",
      "       146, 172,  17, 440, 472, 482, 117,  64, 203, 301, 274, 252, 337,\n",
      "       133,   3, 318, 320, 166, 485, 233, 168, 424, 239, 462, 211,  77,\n",
      "        82,  37, 418, 210, 449, 477, 335, 101, 476, 176, 460, 283,  31,\n",
      "       134,  35, 250, 137,  76, 405, 194, 202, 331, 222, 217, 409, 260,\n",
      "       446, 177, 377, 155, 278, 156, 326, 185,  32, 258, 182, 360, 400,\n",
      "       319, 249, 144,  16,   4,  49, 108,  73, 304, 135, 356,  14, 382,\n",
      "       384,  52, 468, 129, 169,  66,  13, 277, 280, 438, 435,  23, 105,\n",
      "       325, 303,  91,  25, 230, 269,  70, 256, 216, 354,  51,  10,  60,\n",
      "       322, 368, 148,  57,  71, 358,  58, 387, 246, 161, 429, 338, 272,\n",
      "       184, 407,  26, 271, 125, 268, 311, 294,  50, 408, 128, 292, 298,  33], dtype=int64), array([ 21, 237,  97,  30, 231, 145, 289,  93, 261, 207,  92, 466, 178,\n",
      "       191,  62, 469,  84, 340, 123, 375, 281, 478, 115, 288, 341, 265,\n",
      "       235,   1, 286, 448, 295, 328, 452,  81, 111, 196, 119, 118, 273,\n",
      "       113, 195, 270, 334, 213, 285, 242,  54, 221,  43, 124, 153, 349,\n",
      "       383,  44, 470,  42, 232, 225, 236, 415, 386, 396,   7, 122,  63,\n",
      "       327, 437,  80, 343,  20, 131, 138, 302, 109, 376, 441, 164, 455,\n",
      "       421,  61,  75,  55, 347, 359, 158,  89, 379, 323, 321, 254,  74,\n",
      "       454, 238,  19, 428, 114, 179, 209], dtype=int64))]\n"
     ]
    }
   ],
   "source": [
    "cv_sets = ShuffleSplit( n_splits = 10, test_size = 0.20, random_state = 0)\n",
    "print list(cv_sets.split(prices))"
   ]
  },
  {
   "cell_type": "markdown",
   "metadata": {},
   "source": [
    "### Making Predictions\n",
    "Once a model has been trained on a given set of data, it can now be used to make predictions on new sets of input data. In the case of a *decision tree regressor*, the model has learned *what the best questions to ask about the input data are*, and can respond with a prediction for the **target variable**. You can use these predictions to gain information about data where the value of the target variable is unknown — such as data the model was not trained on."
   ]
  },
  {
   "cell_type": "markdown",
   "metadata": {},
   "source": [
    "### Question 9 - Optimal Model\n",
    "_What maximum depth does the optimal model have? How does this result compare to your guess in **Question 6**?_  \n",
    "\n",
    "Run the code block below to fit the decision tree regressor to the training data and produce an optimal model."
   ]
  },
  {
   "cell_type": "code",
   "execution_count": 21,
   "metadata": {
    "collapsed": false,
    "scrolled": true
   },
   "outputs": [
    {
     "name": "stdout",
     "output_type": "stream",
     "text": [
      "Parameter 'max_depth' is 5 for the optimal model.\n"
     ]
    }
   ],
   "source": [
    "# Fit the training data to the model using grid search\n",
    "reg = fit_model(X_train, y_train)\n",
    "\n",
    "# Produce the value for 'max_depth'\n",
    "print \"Parameter 'max_depth' is {} for the optimal model.\".format(reg.get_params()['max_depth'])"
   ]
  },
  {
   "cell_type": "markdown",
   "metadata": {},
   "source": [
    "**Answer: optimal max depth is 4**"
   ]
  },
  {
   "cell_type": "markdown",
   "metadata": {},
   "source": [
    "### Question 10 - Predicting Selling Prices\n",
    "Imagine that you were a real estate agent in the Boston area looking to use this model to help price homes owned by your clients that they wish to sell. You have collected the following information from three of your clients:\n",
    "\n",
    "| Feature | Client 1 | Client 2 | Client 3 |\n",
    "| :---: | :---: | :---: | :---: |\n",
    "| Total number of rooms in home | 5 rooms | 4 rooms | 8 rooms |\n",
    "| Neighborhood poverty level (as %) | 17% | 32% | 3% |\n",
    "| Student-teacher ratio of nearby schools | 15-to-1 | 22-to-1 | 12-to-1 |\n",
    "*What price would you recommend each client sell his/her home at? Do these prices seem reasonable given the values for the respective features?*  \n",
    "**Hint:** Use the statistics you calculated in the **Data Exploration** section to help justify your response.  \n",
    "\n",
    "Run the code block below to have your optimized model make predictions for each client's home."
   ]
  },
  {
   "cell_type": "code",
   "execution_count": 22,
   "metadata": {
    "collapsed": false
   },
   "outputs": [
    {
     "name": "stdout",
     "output_type": "stream",
     "text": [
      "Predicted selling price for Client 1's home: $419,700.00\n",
      "Predicted selling price for Client 2's home: $287,100.00\n",
      "Predicted selling price for Client 3's home: $927,500.00\n"
     ]
    }
   ],
   "source": [
    "# Produce a matrix for client data\n",
    "client_data = [[5, 17, 15], # Client 1\n",
    "               [4, 32, 22], # Client 2\n",
    "               [8, 3, 12]]  # Client 3\n",
    "\n",
    "# Show predictions\n",
    "for i, price in enumerate(reg.predict(client_data)):\n",
    "    print \"Predicted selling price for Client {}'s home: ${:,.2f}\".format(i+1, price)"
   ]
  },
  {
   "cell_type": "markdown",
   "metadata": {},
   "source": [
    "**Answer: **\n",
    "\n",
    "Predicted selling price for Client 1's home: $411,417.39\n",
    "\n",
    "Predicted selling price for Client 2's home: $230,828.57\n",
    "\n",
    "Predicted selling price for Client 3's home: $937,230.00\n",
    "\n",
    "This result matches what I've observed at feature observation section."
   ]
  },
  {
   "cell_type": "markdown",
   "metadata": {},
   "source": [
    "### Sensitivity\n",
    "An optimal model is not necessarily a robust model. Sometimes, a model is either too complex or too simple to sufficiently generalize to new data. Sometimes, a model could use a learning algorithm that is not appropriate for the structure of the data given. Other times, the data itself could be too noisy or contain too few samples to allow a model to adequately capture the target variable — i.e., the model is underfitted. Run the code cell below to run the `fit_model` function ten times with different training and testing sets to see how the prediction for a specific client changes with the data it's trained on."
   ]
  },
  {
   "cell_type": "code",
   "execution_count": 23,
   "metadata": {
    "collapsed": false
   },
   "outputs": [
    {
     "name": "stdout",
     "output_type": "stream",
     "text": [
      "Trial 1: $391,183.33\n",
      "Trial 2: $419,700.00\n",
      "Trial 3: $415,800.00\n",
      "Trial 4: $420,622.22\n",
      "Trial 5: $413,334.78\n",
      "Trial 6: $411,931.58\n",
      "Trial 7: $399,663.16\n",
      "Trial 8: $407,232.00\n",
      "Trial 9: $351,577.61\n",
      "Trial 10: $413,700.00\n",
      "\n",
      "Range in prices: $69,044.61\n"
     ]
    }
   ],
   "source": [
    "vs.PredictTrials(features, prices, fit_model, client_data)"
   ]
  },
  {
   "cell_type": "markdown",
   "metadata": {},
   "source": [
    "### Question 11 - Applicability\n",
    "*In a few sentences, discuss whether the constructed model should or should not be used in a real-world setting.*  \n",
    "**Hint:** Some questions to answering:\n",
    "- *How relevant today is data that was collected from 1978?*\n",
    "- *Are the features present in the data sufficient to describe a home?*\n",
    "- *Is the model robust enough to make consistent predictions?*\n",
    "- *Would data collected in an urban city like Boston be applicable in a rural city?*"
   ]
  },
  {
   "cell_type": "markdown",
   "metadata": {},
   "source": [
    "**Answer: **\n",
    "\n",
    "1.Some data might be obsolete.\n",
    "\n",
    "2.There's lots of features we can use in training model, so it's not enough only take 3 featuress in this assignment.\n",
    "\n",
    "3.In senstivity section, stability of prediction of regression model is OK, enabling making consistent predictions.\n",
    "\n",
    "4.Not at all."
   ]
  },
  {
   "cell_type": "markdown",
   "metadata": {},
   "source": [
    "> **Note**: Once you have completed all of the code implementations and successfully answered each question above, you may finalize your work by exporting the iPython Notebook as an HTML document. You can do this by using the menu above and navigating to  \n",
    "**File -> Download as -> HTML (.html)**. Include the finished document along with this notebook as your submission."
   ]
  }
 ],
 "metadata": {
  "anaconda-cloud": {},
  "kernelspec": {
   "display_name": "Python 2",
   "language": "python",
   "name": "python2"
  },
  "language_info": {
   "codemirror_mode": {
    "name": "ipython",
    "version": 2
   },
   "file_extension": ".py",
   "mimetype": "text/x-python",
   "name": "python",
   "nbconvert_exporter": "python",
   "pygments_lexer": "ipython2",
   "version": "2.7.13"
  }
 },
 "nbformat": 4,
 "nbformat_minor": 0
}
